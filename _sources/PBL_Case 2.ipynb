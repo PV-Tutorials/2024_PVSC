{
 "cells": [
  {
   "cell_type": "markdown",
   "id": "8439c511",
   "metadata": {},
   "source": [
    "![tutorial banner](images/tutorial_banner.PNG)\n",
    "\n",
    "\n",
    "\n",
    "# 2024 PVSC - Problem Based Learning 2\n",
    "\n",
    "\n",
    "### Goal: Model the first Scenario of the PVPMC 2021 Modeling Challenge!\n",
    "\n",
    "Weather File: data/TMY3_Albuquerque_NM.csv\n",
    "\n",
    "![RoundRobin Scen2](images/PVPMC_RoundRobin2021_Scen2_1.PNG)"
   ]
  }
 ],
 "metadata": {
  "kernelspec": {
   "display_name": "Python 3 (ipykernel)",
   "language": "python",
   "name": "python3"
  },
  "language_info": {
   "codemirror_mode": {
    "name": "ipython",
    "version": 3
   },
   "file_extension": ".py",
   "mimetype": "text/x-python",
   "name": "python",
   "nbconvert_exporter": "python",
   "pygments_lexer": "ipython3",
   "version": "3.11.7"
  }
 },
 "nbformat": 4,
 "nbformat_minor": 5
}
