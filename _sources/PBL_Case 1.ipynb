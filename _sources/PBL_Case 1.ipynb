{
 "cells": [
  {
   "cell_type": "markdown",
   "id": "8439c511",
   "metadata": {},
   "source": [
    "![tutorial banner](images/tutorial_banner.PNG)\n",
    "\n",
    "\n",
    "\n",
    "# 2024 PVSC - Problem Based Learning\n",
    "\n",
    "\n",
    "### Goal: Model a PV Module's energy loss due to high wind stowing\n",
    "\n",
    "\n"
   ]
  },
  {
   "cell_type": "code",
   "execution_count": null,
   "id": "6ebe8f10",
   "metadata": {},
   "outputs": [],
   "source": []
  },
  {
   "cell_type": "code",
   "execution_count": null,
   "id": "630f207d-fc45-48b0-860c-c459db22df2b",
   "metadata": {},
   "outputs": [],
   "source": []
  }
 ],
 "metadata": {
  "kernelspec": {
   "display_name": "Python 3 (ipykernel)",
   "language": "python",
   "name": "python3"
  },
  "language_info": {
   "codemirror_mode": {
    "name": "ipython",
    "version": 3
   },
   "file_extension": ".py",
   "mimetype": "text/x-python",
   "name": "python",
   "nbconvert_exporter": "python",
   "pygments_lexer": "ipython3",
   "version": "3.11.7"
  }
 },
 "nbformat": 4,
 "nbformat_minor": 5
}
